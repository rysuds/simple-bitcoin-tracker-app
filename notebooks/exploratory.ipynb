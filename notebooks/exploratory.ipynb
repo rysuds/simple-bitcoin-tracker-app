{
 "cells": [
  {
   "cell_type": "code",
   "execution_count": 22,
   "metadata": {},
   "outputs": [],
   "source": [
    "import requests\n",
    "from pydantic import BaseModel, Field"
   ]
  },
  {
   "cell_type": "code",
   "execution_count": 49,
   "metadata": {},
   "outputs": [],
   "source": [
    "# Response data models\n",
    "\n",
    "# input/output are probably important, but for simplicitly I'm leavinng them out\n",
    "class TransactionResponse(BaseModel):\n",
    "    hash: str\n",
    "    block_height: int\n",
    "    tx_index: int\n",
    "\n",
    "class AddressResponse(BaseModel):\n",
    "    address: str\n",
    "    num_transactions: int = Field(alias='n_tx')\n",
    "    transactions: list[TransactionResponse] = Field(alias='txs')\n",
    "    total_received: int \n",
    "    total_sent: int \n",
    "    final_balance: int"
   ]
  },
  {
   "cell_type": "code",
   "execution_count": 45,
   "metadata": {},
   "outputs": [
    {
     "name": "stdout",
     "output_type": "stream",
     "text": [
      "3E8ociqZa9mZUSwGdSmAEMAoAxBK3FNDcd\n",
      "1138\n",
      "1341482016\n",
      "1337337787\n",
      "4144229\n"
     ]
    }
   ],
   "source": [
    "# Get an Address blob\n",
    "address = '3E8ociqZa9mZUSwGdSmAEMAoAxBK3FNDcd'\n",
    "txn_limit = 2 # Unclear whether this gives us the LATEST N or the FIRST N... we care about the latest here\n",
    "r = requests.get(f'https://blockchain.info/rawaddr/{address}?limit={txn_limit}')\n",
    "# print(r.error)\n",
    "data = r.json()\n",
    "data.keys()\n",
    "print(data['address'])\n",
    "print(data['n_tx'])\n",
    "print(data['total_received'])\n",
    "print(data['total_sent'])\n",
    "print(data['final_balance'])\n",
    "# address_response = AddressResponse(**data)\n",
    "# address_response\n"
   ]
  },
  {
   "cell_type": "code",
   "execution_count": 50,
   "metadata": {},
   "outputs": [
    {
     "data": {
      "text/plain": [
       "dict_keys(['hash160', 'address', 'n_tx', 'n_unredeemed', 'total_received', 'total_sent', 'final_balance', 'txs'])"
      ]
     },
     "execution_count": 50,
     "metadata": {},
     "output_type": "execute_result"
    }
   ],
   "source": [
    "data.keys()"
   ]
  },
  {
   "cell_type": "code",
   "execution_count": 51,
   "metadata": {},
   "outputs": [
    {
     "data": {
      "text/plain": [
       "AddressResponse(address='3E8ociqZa9mZUSwGdSmAEMAoAxBK3FNDcd', num_transactions=1138, transactions=[TransactionResponse(hash='4244d2755fda93be58174a5642c128d9c6d6924c3afa7b8653d3c796eac6e0f0', block_height=735248, tx_index=8475142419306746), TransactionResponse(hash='adcee77856dd2343225a01bc8e4f258c326da5cf644ada611a813d7ca0b849ca', block_height=735187, tx_index=7117375326357424)], total_received=1341482016, total_sent=1337337787, final_balance=4144229)"
      ]
     },
     "execution_count": 51,
     "metadata": {},
     "output_type": "execute_result"
    }
   ],
   "source": [
    "address_response = AddressResponse(**data)\n",
    "address_response"
   ]
  },
  {
   "cell_type": "code",
   "execution_count": null,
   "metadata": {},
   "outputs": [],
   "source": [
    "# Get Multiple Address Blobs\n",
    "addresses = '3E8ociqZa9mZUSwGdSmAEMAoAxBK3FNDcd|bc1q0sg9rdst255gtldsmcf8rk0764avqy2h2ksqs5'\n",
    "txn_limit = 2\n",
    "r = requests.get(f'https://blockchain.info/multiaddr?active={addresses}&n={txn_limit}')\n",
    "r.json()"
   ]
  },
  {
   "cell_type": "code",
   "execution_count": null,
   "metadata": {},
   "outputs": [],
   "source": []
  }
 ],
 "metadata": {
  "interpreter": {
   "hash": "3f4e6721096ceb286377b8ff5b7a77ab95be900c287098d372ce4542fd312f0f"
  },
  "kernelspec": {
   "display_name": "Python 3.9.4 ('dev39')",
   "language": "python",
   "name": "python3"
  },
  "language_info": {
   "codemirror_mode": {
    "name": "ipython",
    "version": 3
   },
   "file_extension": ".py",
   "mimetype": "text/x-python",
   "name": "python",
   "nbconvert_exporter": "python",
   "pygments_lexer": "ipython3",
   "version": "3.9.4"
  },
  "orig_nbformat": 4
 },
 "nbformat": 4,
 "nbformat_minor": 2
}
