{
 "cells": [
  {
   "cell_type": "markdown",
   "metadata": {},
   "source": [
    "# Lightweight Bitcoin Tracker App [WIP]\n",
    "\n",
    "## How to use\n",
    "\n",
    "Open up a fresh Python virtual env and do the following innside of the root dir\n",
    "\n",
    "```\n",
    "pip install -r requirements.txt\n",
    "```\n",
    "\n",
    "To start the server do\n",
    "\n",
    "```\n",
    "uvicorn main:app --reload\n",
    "```\n",
    "\n",
    "You should then be able to send `curl` commands or run the `test_api.ipynb` notebook in the `notebooks` directory (you'll `jupyter` installed for that)\n",
    "\n",
    "\n",
    "\n",
    "## Functionality\n",
    "\n",
    "The app exposes some REST endpoints that fetch address and transaction data. The data is queried from blockchain.com using their REST API, transformed and returnned to user. \n",
    "\n",
    "There is also the ability to create a user record and add an address to that user (although these pieces might be broken atm)\n",
    "\n",
    "## Areas of improvement\n",
    "- Addition of unit tests via happy path jsons \n",
    "- Completion of database layer\n",
    "- Aggregate queries\n",
    "    - total balance across addresses etc..\n",
    "- Syncing mechanism via cron tasks"
   ]
  },
  {
   "cell_type": "code",
   "execution_count": 1,
   "metadata": {},
   "outputs": [],
   "source": [
    "import requests"
   ]
  },
  {
   "cell_type": "code",
   "execution_count": 21,
   "metadata": {},
   "outputs": [
    {
     "data": {
      "text/plain": [
       "{'address': '3E8ociqZa9mZUSwGdSmAEMAoAxBK3FNDcd',\n",
       " 'n_tx': 1138,\n",
       " 'txs': [{'hash': '4244d2755fda93be58174a5642c128d9c6d6924c3afa7b8653d3c796eac6e0f0',\n",
       "   'block_height': 735248,\n",
       "   'tx_index': 8475142419306746},\n",
       "  {'hash': 'adcee77856dd2343225a01bc8e4f258c326da5cf644ada611a813d7ca0b849ca',\n",
       "   'block_height': 735187,\n",
       "   'tx_index': 7117375326357424},\n",
       "  {'hash': '798c94497ab6ac354c5a54eef42a1a3246b8bddfa046b96a904af0fcfec08c80',\n",
       "   'block_height': 734846,\n",
       "   'tx_index': 4522944694820361},\n",
       "  {'hash': '5c5cb00cf5ee10fcf844e96f587926ea4de6ffbdd33afd73b9b22b1ed3af9f6b',\n",
       "   'block_height': 734781,\n",
       "   'tx_index': 3786675002262902},\n",
       "  {'hash': '75892fb9eb8315067b94146896ef35648933e2d51934b0ea6bf03bb018d513db',\n",
       "   'block_height': 734765,\n",
       "   'tx_index': 7708103232849790},\n",
       "  {'hash': '33dc2f336651a14476363b881cf1d3a60a210c1a44c72db97d8ad9308749ceeb',\n",
       "   'block_height': 734494,\n",
       "   'tx_index': 8296679340383025},\n",
       "  {'hash': 'c99e6bf98e4d76777e2299da37a7a1cb3d51539501c01c07a80190a9473df3fb',\n",
       "   'block_height': 734483,\n",
       "   'tx_index': 8864707959403008},\n",
       "  {'hash': '2b726275b40395b347ab905f751bea3118e532cb19b0a21109216a35e0191ce7',\n",
       "   'block_height': 734482,\n",
       "   'tx_index': 8131452135189828},\n",
       "  {'hash': 'd707e63c441865a8c21a03f8a6f72e1c0124e0bd7ebc907c5192f27cf4fe1fd0',\n",
       "   'block_height': 734445,\n",
       "   'tx_index': 7322746879974994},\n",
       "  {'hash': 'd064cb63ed1e76d1fd82c56019827b9f9231aa6182518439a2af37a2d0df4841',\n",
       "   'block_height': 734360,\n",
       "   'tx_index': 2296999950173941}],\n",
       " 'total_received': 1341482016,\n",
       " 'total_sent': 1337337787,\n",
       " 'final_balance': 4144229}"
      ]
     },
     "execution_count": 21,
     "metadata": {},
     "output_type": "execute_result"
    }
   ],
   "source": [
    "# Get address info\n",
    "r = requests.get(\"http://localhost:8000/api/3E8ociqZa9mZUSwGdSmAEMAoAxBK3FNDcd\",)\n",
    "r.json()"
   ]
  },
  {
   "cell_type": "code",
   "execution_count": 22,
   "metadata": {},
   "outputs": [
    {
     "data": {
      "text/plain": [
       "[{'hash': '4244d2755fda93be58174a5642c128d9c6d6924c3afa7b8653d3c796eac6e0f0',\n",
       "  'block_height': 735248,\n",
       "  'tx_index': 8475142419306746},\n",
       " {'hash': 'adcee77856dd2343225a01bc8e4f258c326da5cf644ada611a813d7ca0b849ca',\n",
       "  'block_height': 735187,\n",
       "  'tx_index': 7117375326357424},\n",
       " {'hash': '798c94497ab6ac354c5a54eef42a1a3246b8bddfa046b96a904af0fcfec08c80',\n",
       "  'block_height': 734846,\n",
       "  'tx_index': 4522944694820361},\n",
       " {'hash': '5c5cb00cf5ee10fcf844e96f587926ea4de6ffbdd33afd73b9b22b1ed3af9f6b',\n",
       "  'block_height': 734781,\n",
       "  'tx_index': 3786675002262902},\n",
       " {'hash': '75892fb9eb8315067b94146896ef35648933e2d51934b0ea6bf03bb018d513db',\n",
       "  'block_height': 734765,\n",
       "  'tx_index': 7708103232849790},\n",
       " {'hash': '33dc2f336651a14476363b881cf1d3a60a210c1a44c72db97d8ad9308749ceeb',\n",
       "  'block_height': 734494,\n",
       "  'tx_index': 8296679340383025},\n",
       " {'hash': 'c99e6bf98e4d76777e2299da37a7a1cb3d51539501c01c07a80190a9473df3fb',\n",
       "  'block_height': 734483,\n",
       "  'tx_index': 8864707959403008},\n",
       " {'hash': '2b726275b40395b347ab905f751bea3118e532cb19b0a21109216a35e0191ce7',\n",
       "  'block_height': 734482,\n",
       "  'tx_index': 8131452135189828},\n",
       " {'hash': 'd707e63c441865a8c21a03f8a6f72e1c0124e0bd7ebc907c5192f27cf4fe1fd0',\n",
       "  'block_height': 734445,\n",
       "  'tx_index': 7322746879974994},\n",
       " {'hash': 'd064cb63ed1e76d1fd82c56019827b9f9231aa6182518439a2af37a2d0df4841',\n",
       "  'block_height': 734360,\n",
       "  'tx_index': 2296999950173941}]"
      ]
     },
     "execution_count": 22,
     "metadata": {},
     "output_type": "execute_result"
    }
   ],
   "source": [
    "# Get transactions from address \n",
    "\n",
    "r = requests.get(\"http://localhost:8000/api/3E8ociqZa9mZUSwGdSmAEMAoAxBK3FNDcd/txs\",)\n",
    "r.json()"
   ]
  },
  {
   "cell_type": "code",
   "execution_count": 28,
   "metadata": {},
   "outputs": [
    {
     "data": {
      "text/plain": [
       "4144229"
      ]
     },
     "execution_count": 28,
     "metadata": {},
     "output_type": "execute_result"
    }
   ],
   "source": [
    "# Get balance from address \n",
    "r = requests.get(\"http://localhost:8000/api/3E8ociqZa9mZUSwGdSmAEMAoAxBK3FNDcd/balance\",)\n",
    "r.json()['final_balance']\n"
   ]
  }
 ],
 "metadata": {
  "interpreter": {
   "hash": "3f4e6721096ceb286377b8ff5b7a77ab95be900c287098d372ce4542fd312f0f"
  },
  "kernelspec": {
   "display_name": "Python 3.9.4 ('dev39')",
   "language": "python",
   "name": "python3"
  },
  "language_info": {
   "codemirror_mode": {
    "name": "ipython",
    "version": 3
   },
   "file_extension": ".py",
   "mimetype": "text/x-python",
   "name": "python",
   "nbconvert_exporter": "python",
   "pygments_lexer": "ipython3",
   "version": "3.9.4"
  },
  "orig_nbformat": 4
 },
 "nbformat": 4,
 "nbformat_minor": 2
}
